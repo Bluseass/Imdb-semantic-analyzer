{
  "nbformat": 4,
  "nbformat_minor": 0,
  "metadata": {
    "colab": {
      "provenance": [],
      "authorship_tag": "ABX9TyOYvSrv2pNagpQxVlnuhrWl",
      "include_colab_link": true
    },
    "kernelspec": {
      "name": "python3",
      "display_name": "Python 3"
    },
    "language_info": {
      "name": "python"
    }
  },
  "cells": [
    {
      "cell_type": "markdown",
      "metadata": {
        "id": "view-in-github",
        "colab_type": "text"
      },
      "source": [
        "<a href=\"https://colab.research.google.com/github/Bluseass/Imdb-semantic-analyzer/blob/main/imdb_semantic.ipynb\" target=\"_parent\"><img src=\"https://colab.research.google.com/assets/colab-badge.svg\" alt=\"Open In Colab\"/></a>"
      ]
    },
    {
      "cell_type": "code",
      "source": [
        "import numpy as np\n",
        "import tensorflow as tf\n",
        "from tensorflow import keras\n",
        "from tensorflow.keras import layers\n",
        "from tensorflow.keras.datasets import imdb"
      ],
      "metadata": {
        "id": "TuhQrdYxvupW"
      },
      "execution_count": null,
      "outputs": []
    },
    {
      "cell_type": "code",
      "source": [
        "# Загрузка данных IMDb\n",
        "num_words = 20000\n",
        "maxlen = 200\n",
        "\n",
        "(x_train, y_train), (x_test, y_test) = imdb.load_data(num_words=num_words)"
      ],
      "metadata": {
        "colab": {
          "base_uri": "https://localhost:8080/"
        },
        "id": "49aDajuEvNwX",
        "outputId": "d74597b7-ea15-4e1d-8fe0-3d01bbe6c664"
      },
      "execution_count": null,
      "outputs": [
        {
          "output_type": "stream",
          "name": "stdout",
          "text": [
            "Downloading data from https://storage.googleapis.com/tensorflow/tf-keras-datasets/imdb.npz\n",
            "17464789/17464789 [==============================] - 0s 0us/step\n"
          ]
        }
      ]
    },
    {
      "cell_type": "code",
      "source": [
        "# Паддинг последовательностей\n",
        "x_train = keras.preprocessing.sequence.pad_sequences(x_train, maxlen=maxlen)\n",
        "x_test = keras.preprocessing.sequence.pad_sequences(x_test, maxlen=maxlen)\n",
        "\n",
        "# Создание объекта токенизатора\n",
        "tokenizer = keras.preprocessing.text.Tokenizer(num_words=num_words)\n",
        "tokenizer.fit_on_sequences(x_train)"
      ],
      "metadata": {
        "id": "e1iXrF1HvNyu"
      },
      "execution_count": null,
      "outputs": []
    },
    {
      "cell_type": "code",
      "source": [
        "# Создание модели Transformer\n",
        "embedding_dim = 128\n",
        "num_heads = 8\n",
        "dff = 512\n",
        "num_layers = 6\n",
        "\n",
        "inputs = layers.Input(shape=(maxlen,))\n",
        "embedding_layer = layers.Embedding(num_words, embedding_dim)(inputs)\n",
        "position_embeddings = layers.Embedding(input_dim=maxlen, output_dim=embedding_dim)(tf.range(start=0, limit=maxlen, delta=1))\n",
        "embeddings = embedding_layer + position_embeddings\n",
        "\n",
        "# Добавление dropout\n",
        "dropout_layer = layers.Dropout(0.1)(embeddings)\n",
        "\n",
        "# Добавление нескольких блоков трансформера\n",
        "for _ in range(num_layers):\n",
        "    # Мульти-головное внимание\n",
        "    attention_output = layers.MultiHeadAttention(num_heads=num_heads, key_dim=embedding_dim // num_heads)(dropout_layer, dropout_layer, dropout_layer)\n",
        "    attention_output = layers.Dropout(0.1)(attention_output)\n",
        "    attention_output = layers.LayerNormalization(epsilon=1e-6)(dropout_layer + attention_output)\n",
        "\n",
        "    # Полносвязный слой\n",
        "    ffn_output = layers.Dense(dff, activation='relu')(attention_output)\n",
        "    ffn_output = layers.Dense(embedding_dim)(ffn_output)\n",
        "    ffn_output = layers.Dropout(0.1)(ffn_output)\n",
        "    ffn_output = layers.LayerNormalization(epsilon=1e-6)(attention_output + ffn_output)\n",
        "    dropout_layer = ffn_output"
      ],
      "metadata": {
        "id": "de-3mkCIvN1P"
      },
      "execution_count": null,
      "outputs": []
    },
    {
      "cell_type": "code",
      "source": [
        "# глобальный пулинг\n",
        "pooling_output = layers.GlobalMaxPooling1D()(dropout_layer)\n",
        "outputs = layers.Dense(1, activation='sigmoid')(pooling_output)\n",
        "\n",
        "# сборка и обучение\n",
        "model = keras.Model(inputs=inputs, outputs=outputs)\n",
        "model.compile(optimizer='adam', loss='binary_crossentropy', metrics=['accuracy'])\n",
        "model.fit(x_train, y_train, validation_data=(x_test, y_test), batch_size=64, epochs=5)"
      ],
      "metadata": {
        "id": "1ZhrPkX0vN3r"
      },
      "execution_count": null,
      "outputs": []
    },
    {
      "cell_type": "code",
      "source": [
        "from ipywidgets import widgets\n",
        "\n",
        "def analyze_text(text):\n",
        "    # Предварительная обработка текста\n",
        "    text_sequence = tokenizer.texts_to_sequences([text])\n",
        "    text_padded = keras.preprocessing.sequence.pad_sequences(text_sequence, maxlen=maxlen)\n",
        "\n",
        "    # Получение прогноза от модели Transformer\n",
        "    prediction = model.predict(text_padded)\n",
        "    sentiment = \"Положительный\" if prediction > 0.5 else \"Отрицательный\"\n",
        "\n",
        "    return f\"Результат анализа: {sentiment}\"\n",
        "\n",
        "\n",
        "def analyze_button_clicked(b):\n",
        "    result = analyze_text(input_text.value)\n",
        "    output_text.value = result\n",
        "\n",
        "\n",
        "def clear_button_clicked(b):\n",
        "    input_text.value = ''\n",
        "    output_text.value = ''\n",
        "\n",
        "# Создание текстового поля для ввода текста\n",
        "input_text = widgets.Textarea(description='Текст:', layout={'width': '400px', 'height': '200px'})\n",
        "\n",
        "# Создание кнопки для запуска анализа текста\n",
        "analyze_button = widgets.Button(description='Анализировать')\n",
        "analyze_button.on_click(analyze_button_clicked)\n",
        "\n",
        "# Создание кнопки для очистки поля\n",
        "clear_button = widgets.Button(description='Очистить')\n",
        "clear_button.on_click(clear_button_clicked)\n",
        "\n",
        "# Создание текстового поля для вывода результата анализа\n",
        "output_text = widgets.Textarea(description='Результат:', layout={'width': '400px', 'height': '50px'})\n",
        "\n",
        "# Отображение виджетов\n",
        "display(input_text)\n",
        "display(widgets.HBox([analyze_button, clear_button]))\n",
        "display(output_text)"
      ],
      "metadata": {
        "id": "W1uNjOOWoi0k"
      },
      "execution_count": null,
      "outputs": []
    },
    {
      "cell_type": "code",
      "source": [],
      "metadata": {
        "id": "NacoCIm8oi2x"
      },
      "execution_count": null,
      "outputs": []
    },
    {
      "cell_type": "code",
      "source": [],
      "metadata": {
        "id": "GRtCbtTtoi4o"
      },
      "execution_count": null,
      "outputs": []
    }
  ]
}